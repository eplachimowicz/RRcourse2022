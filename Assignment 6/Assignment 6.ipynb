{
 "cells": [
  {
   "cell_type": "markdown",
   "id": "94e7ba3f",
   "metadata": {},
   "source": [
    "## Exercise 1"
   ]
  },
  {
   "cell_type": "code",
   "execution_count": 1,
   "id": "4d90fc0c",
   "metadata": {
    "ExecuteTime": {
     "end_time": "2022-05-06T08:04:18.984369Z",
     "start_time": "2022-05-06T08:04:18.971066Z"
    }
   },
   "outputs": [],
   "source": [
    "def convert(f, target='c'):\n",
    "    if target == 'c':\n",
    "        return (f - 32) / 1.8\n",
    "    elif target == 'k':\n",
    "        return ((f - 32) / 1.8) + 273.15\n",
    "    else:\n",
    "        raise Exception('wrong target')"
   ]
  },
  {
   "cell_type": "markdown",
   "id": "01269659",
   "metadata": {},
   "source": [
    "## Exercise 2"
   ]
  },
  {
   "cell_type": "code",
   "execution_count": 3,
   "id": "19041281",
   "metadata": {
    "ExecuteTime": {
     "end_time": "2022-05-06T08:05:15.639189Z",
     "start_time": "2022-05-06T08:05:15.626128Z"
    }
   },
   "outputs": [
    {
     "data": {
      "text/plain": [
       "10.0"
      ]
     },
     "execution_count": 3,
     "metadata": {},
     "output_type": "execute_result"
    }
   ],
   "source": [
    "convert(50, 'c')"
   ]
  },
  {
   "cell_type": "code",
   "execution_count": 4,
   "id": "c8c7966a",
   "metadata": {
    "ExecuteTime": {
     "end_time": "2022-05-06T08:05:27.265804Z",
     "start_time": "2022-05-06T08:05:27.260016Z"
    }
   },
   "outputs": [
    {
     "data": {
      "text/plain": [
       "21.11111111111111"
      ]
     },
     "execution_count": 4,
     "metadata": {},
     "output_type": "execute_result"
    }
   ],
   "source": [
    "convert(70, 'c')"
   ]
  },
  {
   "cell_type": "code",
   "execution_count": 5,
   "id": "d08c9f89",
   "metadata": {
    "ExecuteTime": {
     "end_time": "2022-05-06T08:05:33.527469Z",
     "start_time": "2022-05-06T08:05:33.521295Z"
    }
   },
   "outputs": [
    {
     "data": {
      "text/plain": [
       "32.22222222222222"
      ]
     },
     "execution_count": 5,
     "metadata": {},
     "output_type": "execute_result"
    }
   ],
   "source": [
    "convert(90, 'c')"
   ]
  }
 ],
 "metadata": {
  "kernelspec": {
   "display_name": "Python 3 (ipykernel)",
   "language": "python",
   "name": "python3"
  },
  "language_info": {
   "codemirror_mode": {
    "name": "ipython",
    "version": 3
   },
   "file_extension": ".py",
   "mimetype": "text/x-python",
   "name": "python",
   "nbconvert_exporter": "python",
   "pygments_lexer": "ipython3",
   "version": "3.9.7"
  }
 },
 "nbformat": 4,
 "nbformat_minor": 5
}
